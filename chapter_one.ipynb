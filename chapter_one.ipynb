{
 "cells": [
  {
   "cell_type": "markdown",
   "metadata": {
    "toc": true
   },
   "source": [
    "<h1>Table of Contents<span class=\"tocSkip\"></span></h1>\n",
    "<div class=\"toc\"><ul class=\"toc-item\"><li><span><a href=\"#python基础\" data-toc-modified-id=\"python基础-1\"><span class=\"toc-item-num\">1&nbsp;&nbsp;</span>python基础</a></span></li><li><span><a href=\"#附录\" data-toc-modified-id=\"附录-2\"><span class=\"toc-item-num\">2&nbsp;&nbsp;</span>附录</a></span><ul class=\"toc-item\"><li><span><a href=\"#python与其他语言的区别\" data-toc-modified-id=\"python与其他语言的区别-2.1\"><span class=\"toc-item-num\">2.1&nbsp;&nbsp;</span>python与其他语言的区别</a></span></li><li><span><a href=\"#python基础知识\" data-toc-modified-id=\"python基础知识-2.2\"><span class=\"toc-item-num\">2.2&nbsp;&nbsp;</span>python基础知识</a></span><ul class=\"toc-item\"><li><span><a href=\"#注释\" data-toc-modified-id=\"注释-2.2.1\"><span class=\"toc-item-num\">2.2.1&nbsp;&nbsp;</span>注释</a></span></li></ul></li></ul></li></ul></div>"
   ]
  },
  {
   "cell_type": "markdown",
   "metadata": {},
   "source": [
    "# python基础"
   ]
  },
  {
   "cell_type": "markdown",
   "metadata": {},
   "source": [
    "[001 python与其他语言的区别](#appendix001)\n",
    "[002 python基础知识](#appendix002)"
   ]
  },
  {
   "cell_type": "markdown",
   "metadata": {},
   "source": [
    "python 中的数据类型"
   ]
  },
  {
   "cell_type": "markdown",
   "metadata": {},
   "source": [
    "常见数据类型：\n",
    "``number`` ``str`` ``list`` ``tuple`` ``dict``  ``boolean``"
   ]
  },
  {
   "cell_type": "markdown",
   "metadata": {},
   "source": [
    "1. number 即数字类型，一般而言，为int和float，python3中，int默认为long，也就是说，长度等同于无限\n",
    "float 为精度数，即带有小数点的数字，其他语言里有单双精度来支持不同精度需要，python中等同于c语言中double，即大概可以保持16位精准。\n"
   ]
  },
  {
   "cell_type": "code",
   "execution_count": 16,
   "metadata": {},
   "outputs": [
    {
     "name": "stdout",
     "output_type": "stream",
     "text": [
      "3.1415926\n"
     ]
    }
   ],
   "source": [
    "num_1 = 1\n",
    "num_2 = 3.1415926\n",
    "print(num_2)"
   ]
  },
  {
   "cell_type": "markdown",
   "metadata": {},
   "source": [
    "2. str 字符串类型，python中没有字符类型，即单个字符也是一个字符串\n",
    "定义方式使用单引号``''``，双引号``\"\"``，或三引号``\"\"\"\"\"\"``  \n",
    "同时三引号会保留字符串的一定格式，例如换行、缩进，这样打印诗句就更方便了。"
   ]
  },
  {
   "cell_type": "code",
   "execution_count": 3,
   "metadata": {},
   "outputs": [
    {
     "name": "stdout",
     "output_type": "stream",
     "text": [
      "\n",
      "万家灯火人不寐，车水马龙始如一。\n",
      "而今听风南窗前，山云琴骨鲜有魂。\n",
      "\n"
     ]
    }
   ],
   "source": [
    "str_1 = 'A'\n",
    "str_2 = \"this is a str test\"\n",
    "str_3 = \"\"\"this is a str with third quotation marks\"\"\"\n",
    "str_poem = \"\"\"\n",
    "万家灯火人不寐，车水马龙始如一。\n",
    "而今听风南窗前，山云琴骨鲜有魂。\n",
    "\"\"\"\n",
    "print(str_poem)"
   ]
  },
  {
   "cell_type": "markdown",
   "metadata": {},
   "source": [
    "3. list 列表 其他语言里称之为数组，亦即，存在一个小包，里面存放了一个一个小东西，内部顺序是固定的，但是可以对顺序、内容进行修改\n",
    "使用 ``[]``定义"
   ]
  },
  {
   "cell_type": "code",
   "execution_count": 6,
   "metadata": {},
   "outputs": [
    {
     "name": "stdout",
     "output_type": "stream",
     "text": [
      "[1, '列表范例', '元组', '字典']\n",
      "[1, '列表范例', '元组', '字典', '增加一个给lis_2']\n"
     ]
    }
   ],
   "source": [
    "lis_1 = []\n",
    "lis_2 = [1, '列表范例', '元组', '字典']\n",
    "print(lis_2)\n",
    "lis_2.append('增加一个给lis_2')\n",
    "print(lis_2)"
   ]
  },
  {
   "cell_type": "markdown",
   "metadata": {},
   "source": [
    "4. tuple 元组 跟list列表一眼，但是元组一旦被创建了，就无法被修改了，包括其中的元素位置和内容  \n",
    "使用``()`` 定义  \n",
    "其中元素只允许为 number， str，boolean"
   ]
  },
  {
   "cell_type": "code",
   "execution_count": 12,
   "metadata": {},
   "outputs": [
    {
     "name": "stdout",
     "output_type": "stream",
     "text": [
      "(1, '列表范例', '列表', '字典')\n"
     ]
    }
   ],
   "source": [
    "tup_1 = ()\n",
    "tup_2 = (1, '列表范例', '列表',  '字典')\n",
    "print(tup_2)"
   ]
  },
  {
   "cell_type": "markdown",
   "metadata": {},
   "source": [
    "5. dict 字典 字典是一种key-value结构的东西，类似新华字典，每一个词都有自己含义，使用时，可以根据每个key来找到它对应的值，方便数据按一定格式存储与查找。  \n",
    "使用 ``{key:value,}`` 定义，自定内部每个元素的顺序时无序的，虽然大多时候我们打印时，看到的总是一样的顺序，但是请记住，字典内部元素的前后顺序不是固定的。\n",
    "字典的key可以是number，str，tuple；key不允许重复，values允许重复"
   ]
  },
  {
   "cell_type": "code",
   "execution_count": 15,
   "metadata": {},
   "outputs": [
    {
     "name": "stdout",
     "output_type": "stream",
     "text": [
      "{2: '字典', 'dic': '字典', (1, 2, 3): 123}\n"
     ]
    }
   ],
   "source": [
    "dic_1 = {}\n",
    "dic_2 = {2: '字典', 'dic':'字典', (1,2,3):123}\n",
    "print(dic_2)"
   ]
  },
  {
   "cell_type": "code",
   "execution_count": null,
   "metadata": {},
   "outputs": [],
   "source": []
  },
  {
   "cell_type": "code",
   "execution_count": null,
   "metadata": {},
   "outputs": [],
   "source": []
  },
  {
   "cell_type": "code",
   "execution_count": null,
   "metadata": {},
   "outputs": [],
   "source": []
  },
  {
   "cell_type": "code",
   "execution_count": null,
   "metadata": {},
   "outputs": [],
   "source": []
  },
  {
   "cell_type": "code",
   "execution_count": null,
   "metadata": {},
   "outputs": [],
   "source": []
  },
  {
   "cell_type": "code",
   "execution_count": null,
   "metadata": {},
   "outputs": [],
   "source": []
  },
  {
   "cell_type": "markdown",
   "metadata": {},
   "source": [
    "# 附录"
   ]
  },
  {
   "cell_type": "markdown",
   "metadata": {},
   "source": [
    "<span id=\"appendix001\"></span>\n",
    "## python与其他语言的区别\n",
    "简单来看，编程语言一般分为编译和解释型语言（非编译语言）：  \n",
    "+ 对于计算机来说，不存在代码这个概念，只有汇编甚至于说是精简指令集（x86，arm架构）。因此任何编程的过程都是一个，从人类语言-》代码逻辑语言-》计算机语言的过程，其中我们说的话，是人类语言，通过工具人（程序员）将之转换为代码逻辑语言，然后编程语言再转译成计算机语言的一个流程。\n",
    "+ 所谓编译，为了将编程语言转换为计算机所能理解的计算机语言的过程。不同编程语言在设计上，大同小异，都存在这个编译过程，区别只在于谁先谁后。\n",
    "因此，大方向上的，编译型语言即事先将代码转换为二进制等内部建立了相应的关联关系的文件，在运行时，直接拿过来用，不需要再考虑计算机能否理解；还避免了代码的编写bug，同时加快运行，如java、c、c++都是编译型语言。\n",
    "+ python则为解释型语言，在运行时开始逐行，从上而下一句一句，一块一块翻译，解释成计算机语言。\n",
    "+ 优缺点：\n",
    " + 解释型语言，运行速度会慢很多，但是开发速度快，随时都可以修改代码。\n",
    " + 编译型语言，运行速度快，一次编译之后，不需要再考虑代码的解释，但是想即时修改代码存在一定难度。\n"
   ]
  },
  {
   "cell_type": "markdown",
   "metadata": {},
   "source": [
    "<span id=\"appendix002\"></span>\n",
    "## python基础知识\n",
    "### 注释\n",
    "python的注释语法，即有些时候，需要写一些描述性的话，或者让一些代码不生效，则可以添加注释。  \n",
    "使用``#`` 或者``\"\"\"\"\"\"``（没错，就是通过将一部分代码设置为字符串的方式，完成注释过程）  \n",
    "``#`` 将所在行、位于其之后的代码无效化  \n",
    "``\"\"\"\"\"\"`` 则可以将多行变更为字符串类型，大多数时候可以生效。"
   ]
  },
  {
   "cell_type": "code",
   "execution_count": 19,
   "metadata": {},
   "outputs": [],
   "source": [
    "# 这是一条注释\n",
    "a =123 # 我可以解释我定义了一个参数a，其中存储了123这个数字\n",
    "\"\"\"\n",
    "快闪开，我又要写诗了。\n",
    "从茧中出生\n",
    "所见到的第一缕光，无论怎样\n",
    "都是这个世界的馈赠。\n",
    "\"\"\"\n",
    "demo_b = 'nothing happend!'"
   ]
  },
  {
   "cell_type": "markdown",
   "metadata": {},
   "source": [
    "### "
   ]
  }
 ],
 "metadata": {
  "kernelspec": {
   "display_name": "Python 3",
   "language": "python",
   "name": "python3"
  },
  "language_info": {
   "codemirror_mode": {
    "name": "ipython",
    "version": 3
   },
   "file_extension": ".py",
   "mimetype": "text/x-python",
   "name": "python",
   "nbconvert_exporter": "python",
   "pygments_lexer": "ipython3",
   "version": "3.7.3"
  },
  "toc": {
   "base_numbering": 1,
   "nav_menu": {},
   "number_sections": true,
   "sideBar": true,
   "skip_h1_title": false,
   "title_cell": "Table of Contents",
   "title_sidebar": "Contents",
   "toc_cell": true,
   "toc_position": {},
   "toc_section_display": true,
   "toc_window_display": true
  }
 },
 "nbformat": 4,
 "nbformat_minor": 2
}
